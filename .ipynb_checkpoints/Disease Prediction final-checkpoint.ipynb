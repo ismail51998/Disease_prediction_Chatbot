{
 "cells": [
  {
   "cell_type": "code",
   "execution_count": 1,
   "metadata": {},
   "outputs": [],
   "source": [
    "import pandas as pd\n",
    "import numpy as np\n",
    "from nltk.corpus import wordnet as wn \n",
    "import csv"
   ]
  },
  {
   "cell_type": "code",
   "execution_count": 2,
   "metadata": {},
   "outputs": [],
   "source": [
    "df_tr=pd.read_csv('NEW.csv')"
   ]
  },
  {
   "cell_type": "code",
   "execution_count": 5,
   "metadata": {},
   "outputs": [],
   "source": [
    "del df_tr['Unnamed: 0']"
   ]
  },
  {
   "cell_type": "code",
   "execution_count": 8,
   "metadata": {},
   "outputs": [],
   "source": [
    "TEMP=df_tr['prognosis']"
   ]
  },
  {
   "cell_type": "code",
   "execution_count": 9,
   "metadata": {},
   "outputs": [],
   "source": [
    "del df_tr['prognosis']\n",
    "df_tr['prognosis']=TEMP"
   ]
  },
  {
   "cell_type": "code",
   "execution_count": 3,
   "metadata": {},
   "outputs": [],
   "source": [
    "df_tt=pd.read_csv('NEWTEST.csv')"
   ]
  },
  {
   "cell_type": "code",
   "execution_count": 6,
   "metadata": {},
   "outputs": [],
   "source": [
    "del df_tt['Unnamed: 0']"
   ]
  },
  {
   "cell_type": "code",
   "execution_count": 10,
   "metadata": {},
   "outputs": [],
   "source": [
    "TEMP=df_tt['prognosis']\n",
    "del df_tt['prognosis']\n",
    "df_tt['prognosis']=TEMP"
   ]
  },
  {
   "cell_type": "code",
   "execution_count": 11,
   "metadata": {},
   "outputs": [
    {
     "data": {
      "text/html": [
       "<div>\n",
       "<style scoped>\n",
       "    .dataframe tbody tr th:only-of-type {\n",
       "        vertical-align: middle;\n",
       "    }\n",
       "\n",
       "    .dataframe tbody tr th {\n",
       "        vertical-align: top;\n",
       "    }\n",
       "\n",
       "    .dataframe thead th {\n",
       "        text-align: right;\n",
       "    }\n",
       "</style>\n",
       "<table border=\"1\" class=\"dataframe\">\n",
       "  <thead>\n",
       "    <tr style=\"text-align: right;\">\n",
       "      <th></th>\n",
       "      <th>itching</th>\n",
       "      <th>skin_rash</th>\n",
       "      <th>nodal_skin_eruptions</th>\n",
       "      <th>continuous_sneezing</th>\n",
       "      <th>shivering</th>\n",
       "      <th>chills</th>\n",
       "      <th>joint_pain</th>\n",
       "      <th>stomach_pain</th>\n",
       "      <th>acidity</th>\n",
       "      <th>ulcers_on_tongue</th>\n",
       "      <th>...</th>\n",
       "      <th>prodrome</th>\n",
       "      <th>hypoproteinemia</th>\n",
       "      <th>alcohol binge episode</th>\n",
       "      <th>abdomen acute</th>\n",
       "      <th>air fluid level</th>\n",
       "      <th>catching breath</th>\n",
       "      <th>large-for-dates fetus</th>\n",
       "      <th>immobile</th>\n",
       "      <th>homicidal thoughts</th>\n",
       "      <th>prognosis</th>\n",
       "    </tr>\n",
       "  </thead>\n",
       "  <tbody>\n",
       "    <tr>\n",
       "      <th>0</th>\n",
       "      <td>1</td>\n",
       "      <td>1</td>\n",
       "      <td>1</td>\n",
       "      <td>0</td>\n",
       "      <td>0</td>\n",
       "      <td>0</td>\n",
       "      <td>0</td>\n",
       "      <td>0</td>\n",
       "      <td>0</td>\n",
       "      <td>0</td>\n",
       "      <td>...</td>\n",
       "      <td>0</td>\n",
       "      <td>0</td>\n",
       "      <td>0</td>\n",
       "      <td>0</td>\n",
       "      <td>0</td>\n",
       "      <td>0</td>\n",
       "      <td>0</td>\n",
       "      <td>0</td>\n",
       "      <td>0</td>\n",
       "      <td>Fungal infection</td>\n",
       "    </tr>\n",
       "    <tr>\n",
       "      <th>1</th>\n",
       "      <td>0</td>\n",
       "      <td>1</td>\n",
       "      <td>1</td>\n",
       "      <td>0</td>\n",
       "      <td>0</td>\n",
       "      <td>0</td>\n",
       "      <td>0</td>\n",
       "      <td>0</td>\n",
       "      <td>0</td>\n",
       "      <td>0</td>\n",
       "      <td>...</td>\n",
       "      <td>0</td>\n",
       "      <td>0</td>\n",
       "      <td>0</td>\n",
       "      <td>0</td>\n",
       "      <td>0</td>\n",
       "      <td>0</td>\n",
       "      <td>0</td>\n",
       "      <td>0</td>\n",
       "      <td>0</td>\n",
       "      <td>Fungal infection</td>\n",
       "    </tr>\n",
       "    <tr>\n",
       "      <th>2</th>\n",
       "      <td>1</td>\n",
       "      <td>0</td>\n",
       "      <td>1</td>\n",
       "      <td>0</td>\n",
       "      <td>0</td>\n",
       "      <td>0</td>\n",
       "      <td>0</td>\n",
       "      <td>0</td>\n",
       "      <td>0</td>\n",
       "      <td>0</td>\n",
       "      <td>...</td>\n",
       "      <td>0</td>\n",
       "      <td>0</td>\n",
       "      <td>0</td>\n",
       "      <td>0</td>\n",
       "      <td>0</td>\n",
       "      <td>0</td>\n",
       "      <td>0</td>\n",
       "      <td>0</td>\n",
       "      <td>0</td>\n",
       "      <td>Fungal infection</td>\n",
       "    </tr>\n",
       "    <tr>\n",
       "      <th>3</th>\n",
       "      <td>1</td>\n",
       "      <td>1</td>\n",
       "      <td>0</td>\n",
       "      <td>0</td>\n",
       "      <td>0</td>\n",
       "      <td>0</td>\n",
       "      <td>0</td>\n",
       "      <td>0</td>\n",
       "      <td>0</td>\n",
       "      <td>0</td>\n",
       "      <td>...</td>\n",
       "      <td>0</td>\n",
       "      <td>0</td>\n",
       "      <td>0</td>\n",
       "      <td>0</td>\n",
       "      <td>0</td>\n",
       "      <td>0</td>\n",
       "      <td>0</td>\n",
       "      <td>0</td>\n",
       "      <td>0</td>\n",
       "      <td>Fungal infection</td>\n",
       "    </tr>\n",
       "    <tr>\n",
       "      <th>4</th>\n",
       "      <td>1</td>\n",
       "      <td>1</td>\n",
       "      <td>1</td>\n",
       "      <td>0</td>\n",
       "      <td>0</td>\n",
       "      <td>0</td>\n",
       "      <td>0</td>\n",
       "      <td>0</td>\n",
       "      <td>0</td>\n",
       "      <td>0</td>\n",
       "      <td>...</td>\n",
       "      <td>0</td>\n",
       "      <td>0</td>\n",
       "      <td>0</td>\n",
       "      <td>0</td>\n",
       "      <td>0</td>\n",
       "      <td>0</td>\n",
       "      <td>0</td>\n",
       "      <td>0</td>\n",
       "      <td>0</td>\n",
       "      <td>Fungal infection</td>\n",
       "    </tr>\n",
       "  </tbody>\n",
       "</table>\n",
       "<p>5 rows × 519 columns</p>\n",
       "</div>"
      ],
      "text/plain": [
       "   itching  skin_rash  nodal_skin_eruptions  continuous_sneezing  shivering  \\\n",
       "0        1          1                     1                    0          0   \n",
       "1        0          1                     1                    0          0   \n",
       "2        1          0                     1                    0          0   \n",
       "3        1          1                     0                    0          0   \n",
       "4        1          1                     1                    0          0   \n",
       "\n",
       "   chills  joint_pain  stomach_pain  acidity  ulcers_on_tongue  ...  prodrome  \\\n",
       "0       0           0             0        0                 0  ...         0   \n",
       "1       0           0             0        0                 0  ...         0   \n",
       "2       0           0             0        0                 0  ...         0   \n",
       "3       0           0             0        0                 0  ...         0   \n",
       "4       0           0             0        0                 0  ...         0   \n",
       "\n",
       "   hypoproteinemia  alcohol binge episode  abdomen acute  air fluid level  \\\n",
       "0                0                      0              0                0   \n",
       "1                0                      0              0                0   \n",
       "2                0                      0              0                0   \n",
       "3                0                      0              0                0   \n",
       "4                0                      0              0                0   \n",
       "\n",
       "   catching breath  large-for-dates fetus  immobile  homicidal thoughts  \\\n",
       "0                0                      0         0                   0   \n",
       "1                0                      0         0                   0   \n",
       "2                0                      0         0                   0   \n",
       "3                0                      0         0                   0   \n",
       "4                0                      0         0                   0   \n",
       "\n",
       "          prognosis  \n",
       "0  Fungal infection  \n",
       "1  Fungal infection  \n",
       "2  Fungal infection  \n",
       "3  Fungal infection  \n",
       "4  Fungal infection  \n",
       "\n",
       "[5 rows x 519 columns]"
      ]
     },
     "execution_count": 11,
     "metadata": {},
     "output_type": "execute_result"
    }
   ],
   "source": [
    "df_tr.head()"
   ]
  },
  {
   "cell_type": "code",
   "execution_count": 12,
   "metadata": {},
   "outputs": [],
   "source": [
    "symp=[]\n",
    "disease=[]\n",
    "for i in range(len(df_tr)):\n",
    "    symp.append(df_tr.columns[df_tr.iloc[i]==1].to_list())\n",
    "    disease.append(df_tr.iloc[i,-1])"
   ]
  },
  {
   "cell_type": "code",
   "execution_count": 13,
   "metadata": {},
   "outputs": [
    {
     "data": {
      "text/plain": [
       "['itching', 'skin_rash', 'nodal_skin_eruptions', 'dischromic _patches']"
      ]
     },
     "execution_count": 13,
     "metadata": {},
     "output_type": "execute_result"
    }
   ],
   "source": [
    "symp[0]"
   ]
  },
  {
   "cell_type": "code",
   "execution_count": 14,
   "metadata": {},
   "outputs": [
    {
     "data": {
      "text/plain": [
       "'Fungal infection'"
      ]
     },
     "execution_count": 14,
     "metadata": {},
     "output_type": "execute_result"
    }
   ],
   "source": [
    "disease[0]"
   ]
  },
  {
   "cell_type": "markdown",
   "metadata": {},
   "source": [
    "# I- GET ALL SYMPTOMS"
   ]
  },
  {
   "cell_type": "code",
   "execution_count": 15,
   "metadata": {},
   "outputs": [],
   "source": [
    "all_symp_col=list(df_tr.columns[:-1])\n",
    "def clean_symp(sym):\n",
    "    return sym.replace('_',' ').replace('.1','').replace('(typhos)','').replace('yellowish','yellow').replace('yellowing','yellow') "
   ]
  },
  {
   "cell_type": "code",
   "execution_count": 16,
   "metadata": {},
   "outputs": [],
   "source": [
    "all_symp=[clean_symp(sym) for sym in (all_symp_col)]"
   ]
  },
  {
   "cell_type": "code",
   "execution_count": null,
   "metadata": {},
   "outputs": [],
   "source": []
  },
  {
   "cell_type": "code",
   "execution_count": null,
   "metadata": {},
   "outputs": [],
   "source": []
  },
  {
   "cell_type": "code",
   "execution_count": 17,
   "metadata": {},
   "outputs": [],
   "source": [
    "## get all symptoms which do not have a synset\n",
    "ohne_syns=[]\n",
    "mit_syns=[]\n",
    "for sym in all_symp:\n",
    "    if not wn.synsets(sym) :\n",
    "        ohne_syns.append(sym)\n",
    "    else:\n",
    "        mit_syns.append(sym)"
   ]
  },
  {
   "cell_type": "code",
   "execution_count": 18,
   "metadata": {},
   "outputs": [
    {
     "data": {
      "text/plain": [
       "332"
      ]
     },
     "execution_count": 18,
     "metadata": {},
     "output_type": "execute_result"
    }
   ],
   "source": [
    "len(ohne_syns)"
   ]
  },
  {
   "cell_type": "code",
   "execution_count": 19,
   "metadata": {},
   "outputs": [
    {
     "data": {
      "text/plain": [
       "['itching',\n",
       " 'shivering',\n",
       " 'chills',\n",
       " 'acidity',\n",
       " 'vomiting',\n",
       " 'fatigue',\n",
       " 'anxiety',\n",
       " 'restlessness',\n",
       " 'lethargy',\n",
       " 'cough',\n",
       " 'breathlessness',\n",
       " 'sweating',\n",
       " 'dehydration',\n",
       " 'indigestion',\n",
       " 'headache',\n",
       " 'nausea',\n",
       " 'constipation',\n",
       " 'diarrhoea',\n",
       " 'malaise',\n",
       " 'phlegm',\n",
       " 'congestion',\n",
       " 'dizziness',\n",
       " 'cramps',\n",
       " 'bruising',\n",
       " 'obesity',\n",
       " 'unsteadiness',\n",
       " 'depression',\n",
       " 'irritability',\n",
       " 'polyuria',\n",
       " 'coma',\n",
       " 'palpitations',\n",
       " 'blackheads',\n",
       " 'blister',\n",
       " 'asthenia',\n",
       " 'fall',\n",
       " 'syncope',\n",
       " 'vertigo',\n",
       " 'sweat',\n",
       " 'palpitation',\n",
       " 'orthopnea',\n",
       " 'rale',\n",
       " 'unresponsiveness',\n",
       " 'suicidal',\n",
       " 'weepiness',\n",
       " 'sleeplessness',\n",
       " 'blackout',\n",
       " 'worry',\n",
       " 'agitation',\n",
       " 'tremor',\n",
       " 'intoxication',\n",
       " 'difficulty',\n",
       " 'nightmare',\n",
       " 'homelessness',\n",
       " 'fever',\n",
       " 'chill',\n",
       " 'rhonchus',\n",
       " 'wheezing',\n",
       " 'haemoptysis',\n",
       " 'dyspnea',\n",
       " 'dysarthria',\n",
       " 'hemiplegia',\n",
       " 'seizure',\n",
       " 'numbness',\n",
       " 'bradycardia',\n",
       " 'pain',\n",
       " 'nonsmoker',\n",
       " 'erythema',\n",
       " 'pruritus',\n",
       " 'diarrhea',\n",
       " 'swelling',\n",
       " 'dysuria',\n",
       " 'hematuria',\n",
       " 'hyponatremia',\n",
       " 'monoclonal',\n",
       " 'ecchymosis',\n",
       " 'haemorrhage',\n",
       " 'pallor',\n",
       " 'arthralgia',\n",
       " 'hypercapnia',\n",
       " 'bedridden',\n",
       " 'hyperkalemia',\n",
       " 'ascites',\n",
       " 'hypotension',\n",
       " 'enuresis',\n",
       " 'sleepy',\n",
       " 'lightheadedness',\n",
       " 'drowsiness',\n",
       " 'stiffness',\n",
       " 'nervousness',\n",
       " 'formication',\n",
       " 'lesion',\n",
       " 'hoarseness',\n",
       " 'thicken',\n",
       " 'redness',\n",
       " 'hypesthesia',\n",
       " 'hyperacusis',\n",
       " 'heartburn',\n",
       " 'cyanosis',\n",
       " 'cardiomegaly',\n",
       " 'clonus',\n",
       " 'unwell',\n",
       " 'anorexia',\n",
       " 'anosmia',\n",
       " 'aura',\n",
       " 'myoclonus',\n",
       " 'gurgle',\n",
       " 'oliguria',\n",
       " 'catatonia',\n",
       " 'unhappy',\n",
       " 'paresthesia',\n",
       " 'ache',\n",
       " 'withdraw',\n",
       " 'terrify',\n",
       " 'hypersomnia',\n",
       " 'mydriasis',\n",
       " 'exhaustion',\n",
       " 'snore',\n",
       " 'overweight',\n",
       " 'asymptomatic',\n",
       " 'splenomegaly',\n",
       " 'macule',\n",
       " 'photophobia',\n",
       " 'cachexia',\n",
       " 'snuffle',\n",
       " 'stridor',\n",
       " 'paresis',\n",
       " 'aphagia',\n",
       " 'stupor',\n",
       " 'paralyse',\n",
       " 'hirsutism',\n",
       " 'sniffle',\n",
       " 'clumsiness',\n",
       " 'hematochezia',\n",
       " 'neologism',\n",
       " 'paraparesis',\n",
       " 'moody',\n",
       " 'spasm',\n",
       " 'hyperventilation',\n",
       " 'gag',\n",
       " 'posturing',\n",
       " 'ataxia',\n",
       " 'hepatomegaly',\n",
       " 'sciatica',\n",
       " 'underweight',\n",
       " 'dullness',\n",
       " 'hypokalemia',\n",
       " 'hunger',\n",
       " 'disequilibrium',\n",
       " 'flushing',\n",
       " 'pustule',\n",
       " 'frail',\n",
       " 'monocytosis',\n",
       " 'incoherent',\n",
       " 'lameness',\n",
       " 'tenesmus',\n",
       " 'myalgia',\n",
       " 'floppy',\n",
       " 'moan',\n",
       " 'welt',\n",
       " 'tinnitus',\n",
       " 'debilitation',\n",
       " 'drool',\n",
       " 'groggy',\n",
       " 'fatigability',\n",
       " 'abortion',\n",
       " 'primigravida',\n",
       " 'hyperemesis',\n",
       " 'milky',\n",
       " 'phonophobia',\n",
       " 'ambidexterity',\n",
       " 'bruit',\n",
       " 'retch',\n",
       " 'blanch',\n",
       " 'elation',\n",
       " 'transsexual',\n",
       " 'choke',\n",
       " 'sedentary',\n",
       " 'flare',\n",
       " 'hoard',\n",
       " 'panic',\n",
       " 'sneeze',\n",
       " 'hypertonicity',\n",
       " 'flatulence',\n",
       " 'prodrome',\n",
       " 'hypoproteinemia',\n",
       " 'immobile']"
      ]
     },
     "execution_count": 19,
     "metadata": {},
     "output_type": "execute_result"
    }
   ],
   "source": [
    "mit_syns"
   ]
  },
  {
   "cell_type": "code",
   "execution_count": 20,
   "metadata": {},
   "outputs": [
    {
     "data": {
      "text/plain": [
       "['skin rash',\n",
       " 'nodal skin eruptions',\n",
       " 'continuous sneezing',\n",
       " 'joint pain',\n",
       " 'stomach pain',\n",
       " 'ulcers on tongue',\n",
       " 'muscle wasting',\n",
       " 'burning micturition',\n",
       " 'spotting  urination',\n",
       " 'weight gain',\n",
       " 'cold hands and feets',\n",
       " 'mood swings',\n",
       " 'weight loss',\n",
       " 'patches in throat',\n",
       " 'irregular sugar level',\n",
       " 'high fever',\n",
       " 'sunken eyes',\n",
       " 'yellow skin',\n",
       " 'dark urine',\n",
       " 'loss of appetite',\n",
       " 'pain behind the eyes',\n",
       " 'back pain',\n",
       " 'abdominal pain',\n",
       " 'mild fever',\n",
       " 'yellow urine',\n",
       " 'yellow of eyes',\n",
       " 'acute liver failure',\n",
       " 'fluid overload',\n",
       " 'swelling of stomach',\n",
       " 'swelled lymph nodes',\n",
       " 'blurred and distorted vision',\n",
       " 'throat irritation',\n",
       " 'redness of eyes',\n",
       " 'sinus pressure',\n",
       " 'runny nose',\n",
       " 'chest pain',\n",
       " 'weakness in limbs',\n",
       " 'fast heart rate',\n",
       " 'pain during bowel movements',\n",
       " 'pain in anal region',\n",
       " 'bloody stool',\n",
       " 'irritation in anus',\n",
       " 'neck pain',\n",
       " 'swollen legs',\n",
       " 'swollen blood vessels',\n",
       " 'puffy face and eyes',\n",
       " 'enlarged thyroid',\n",
       " 'brittle nails',\n",
       " 'swollen extremeties',\n",
       " 'excessive hunger',\n",
       " 'extra marital contacts',\n",
       " 'drying and tingling lips',\n",
       " 'slurred speech',\n",
       " 'knee pain',\n",
       " 'hip joint pain',\n",
       " 'muscle weakness',\n",
       " 'stiff neck',\n",
       " 'swelling joints',\n",
       " 'movement stiffness',\n",
       " 'spinning movements',\n",
       " 'loss of balance',\n",
       " 'weakness of one body side',\n",
       " 'loss of smell',\n",
       " 'bladder discomfort',\n",
       " 'foul smell of urine',\n",
       " 'continuous feel of urine',\n",
       " 'passage of gases',\n",
       " 'internal itching',\n",
       " 'toxic look ',\n",
       " 'muscle pain',\n",
       " 'altered sensorium',\n",
       " 'red spots over body',\n",
       " 'belly pain',\n",
       " 'abnormal menstruation',\n",
       " 'dischromic  patches',\n",
       " 'watering from eyes',\n",
       " 'increased appetite',\n",
       " 'family history',\n",
       " 'mucoid sputum',\n",
       " 'rusty sputum',\n",
       " 'lack of concentration',\n",
       " 'visual disturbances',\n",
       " 'receiving blood transfusion',\n",
       " 'receiving unsterile injections',\n",
       " 'stomach bleeding',\n",
       " 'distention of abdomen',\n",
       " 'history of alcohol consumption',\n",
       " 'fluid overload',\n",
       " 'blood in sputum',\n",
       " 'prominent veins on calf',\n",
       " 'painful walking',\n",
       " 'pus filled pimples',\n",
       " 'scurring',\n",
       " 'skin peeling',\n",
       " 'silver like dusting',\n",
       " 'small dents in nails',\n",
       " 'inflammatory nails',\n",
       " 'red sore around nose',\n",
       " 'yellow crust ooze',\n",
       " 'pain chest',\n",
       " 'shortness of breath',\n",
       " 'angina pectoris',\n",
       " 'pressure chest',\n",
       " 'polydypsia',\n",
       " 'mental status changes',\n",
       " 'labored breathing',\n",
       " 'feeling suicidal',\n",
       " 'hallucinations auditory',\n",
       " 'feeling hopeless',\n",
       " 'motor retardation',\n",
       " 'irritable mood',\n",
       " 'mood depressed',\n",
       " 'hallucinations visual',\n",
       " 'verbal auditory hallucinations',\n",
       " 'energy increased',\n",
       " 'unable to concentrate',\n",
       " 'hypokinesia',\n",
       " 'dyspnea on exertion',\n",
       " 'chest tightness',\n",
       " 'decreased translucency',\n",
       " 'productive cough',\n",
       " 'pleuritic pain',\n",
       " 'yellow sputum',\n",
       " 'breath sounds decreased',\n",
       " 'green sputum',\n",
       " 'non-productive cough',\n",
       " 'distress respiratory',\n",
       " 'tachypnea',\n",
       " 'night sweat',\n",
       " 'jugular venous distention',\n",
       " 'speech slurred',\n",
       " 'facial paresis',\n",
       " 'symptom aggravating factors',\n",
       " 'st segment elevation',\n",
       " 'st segment depression',\n",
       " 't wave inverted',\n",
       " 'presence of q wave',\n",
       " 'chest discomfort',\n",
       " 'hepatosplenomegaly',\n",
       " 'abscess bacterial',\n",
       " 'apyrexial',\n",
       " 'renal angle tenderness',\n",
       " 'hemodynamically stable',\n",
       " 'difficulty passing urine',\n",
       " 'consciousness clear',\n",
       " 'guaiac positive',\n",
       " 'tumor cell invasion',\n",
       " 'heme positive',\n",
       " 'pain back',\n",
       " 'orthostasis',\n",
       " 'transaminitis',\n",
       " 'sputum purulent',\n",
       " 'hypoxemia',\n",
       " 'patient non compliance',\n",
       " 'unconscious state',\n",
       " 'abdominal tenderness',\n",
       " 'unsteady gait',\n",
       " 'urgency of\\xa0micturition',\n",
       " 'asterixis',\n",
       " 'muscle twitch',\n",
       " 'food intolerance',\n",
       " 'numbness of hand',\n",
       " 'general discomfort',\n",
       " 'prostatism',\n",
       " 'weight gain',\n",
       " 'mass of body structure',\n",
       " 'has religious belief',\n",
       " 'hot flush',\n",
       " 'cushingoid facies',\n",
       " 'emphysematous change',\n",
       " 'decreased body weight',\n",
       " 'spontaneous rupture of membranes',\n",
       " 'muscle hypotonia',\n",
       " 'scratch marks',\n",
       " 'sore to touch',\n",
       " 'burning sensation',\n",
       " 'satiety early',\n",
       " 'throbbing sensation quality',\n",
       " 'sensory discomfort',\n",
       " 'pain abdominal',\n",
       " 'breech presentation',\n",
       " 'pain in lower limb',\n",
       " 'metastatic lesion',\n",
       " 'hemianopsia homonymous',\n",
       " 'hematocrit decreased',\n",
       " 'neck stiffness',\n",
       " 'cicatrisation',\n",
       " 'hypometabolism',\n",
       " 'wheelchair bound',\n",
       " 'left\\xa0atrial\\xa0hypertrophy',\n",
       " 'gravida 0',\n",
       " 'lung nodule',\n",
       " 'distended abdomen',\n",
       " 'macerated skin',\n",
       " 'heavy feeling',\n",
       " 'rest pain',\n",
       " 'sinus rhythm',\n",
       " 'behavior hyperactive',\n",
       " 'photopsia',\n",
       " 'giddy mood',\n",
       " 'disturbed family',\n",
       " 'hyperhidrosis disorder',\n",
       " 'extrapyramidal sign',\n",
       " 'loose associations',\n",
       " 'r wave feature',\n",
       " 'systolic murmur',\n",
       " 'bleeding of vagina',\n",
       " 'painful swallowing',\n",
       " 'hypocalcemia result',\n",
       " 'hypothermia, natural',\n",
       " 'atypia',\n",
       " 'general unsteadiness',\n",
       " 'throat sore',\n",
       " 'hacking cough',\n",
       " 'focal seizures',\n",
       " 'abnormal sensation',\n",
       " 'fremitus',\n",
       " \"Stahli's line\",\n",
       " 'stinging sensation',\n",
       " 'bradykinesia',\n",
       " 'out of breath',\n",
       " 'urge incontinence',\n",
       " 'vision blurred',\n",
       " 'room spinning',\n",
       " 'rambling speech',\n",
       " 'decreased stool caliber',\n",
       " 'egophony',\n",
       " 'decompensation',\n",
       " 'stool color yellow',\n",
       " 'rigor - temperature-associated observation',\n",
       " 'fear of falling',\n",
       " 'excruciating pain',\n",
       " 'pulse absent',\n",
       " 'dysesthesia',\n",
       " 'polymyalgia',\n",
       " 'passed stones',\n",
       " 'qt interval prolonged',\n",
       " \"Heberden's node\",\n",
       " 'frothy sputum',\n",
       " 'mass in breast',\n",
       " 'retropulsion',\n",
       " 'estrogen use',\n",
       " 'hypersomnolence',\n",
       " 'red blotches',\n",
       " 'colic abdominal',\n",
       " 'prostate tender',\n",
       " 'pain foot',\n",
       " 'urinary hesitation',\n",
       " 'indifferent mood',\n",
       " 'urinoma',\n",
       " 'hypoalbuminemia',\n",
       " 'slowing of urinary stream',\n",
       " 'extreme exhaustion',\n",
       " 'no status change',\n",
       " 'breakthrough pain',\n",
       " 'pansystolic murmur',\n",
       " 'systolic ejection murmur',\n",
       " 'stuffy nose',\n",
       " 'barking cough',\n",
       " 'rapid shallow breathing',\n",
       " 'noisy respiration',\n",
       " 'nasal discharge present',\n",
       " 'cystic lesion',\n",
       " 'projectile vomiting',\n",
       " 'heavy legs',\n",
       " 'titubation',\n",
       " 'dysdiadochokinesia',\n",
       " 'achalasia',\n",
       " 'side pain',\n",
       " 'posterior\\xa0rhinorrhea',\n",
       " 'clammy skin',\n",
       " 'mediastinal shift',\n",
       " 'nausea and vomiting',\n",
       " 'awakening early',\n",
       " 'fecaluria',\n",
       " 'pneumatouria',\n",
       " 'todd paralysis',\n",
       " 'alcoholic withdrawal symptoms',\n",
       " 'dyspareunia',\n",
       " 'poor dentition',\n",
       " 'inappropriate affect',\n",
       " 'poor feeding',\n",
       " 'hydropneumothorax',\n",
       " 'superimposition',\n",
       " 'feeling strange',\n",
       " 'uncoordination',\n",
       " 'absences finding',\n",
       " 'tonic seizures',\n",
       " 'impaired cognition',\n",
       " 'pin-point pupils',\n",
       " 'tremor resting',\n",
       " 'adverse reaction',\n",
       " 'abdominal bloating',\n",
       " 'para 2',\n",
       " 'intermenstrual heavy bleeding',\n",
       " 'previous pregnancies 2',\n",
       " 'abnormally hard consistency',\n",
       " 'proteinemia',\n",
       " 'pain neck',\n",
       " 'dizzy spells',\n",
       " 'shooting pain',\n",
       " 'regurgitates after swallowing',\n",
       " 'lip smacking',\n",
       " 'rolling of eyes',\n",
       " 'pulsus\\xa0paradoxus',\n",
       " 'gravida 10',\n",
       " 'breath-holding spell',\n",
       " 'scleral\\xa0icterus',\n",
       " 'verbally abusive behavior',\n",
       " 'behavior showing increased motor activity',\n",
       " 'scar tissue',\n",
       " 'coordination abnormal',\n",
       " 'bowel sounds decreased',\n",
       " 'no known drug allergies',\n",
       " 'low back pain',\n",
       " 'charleyhorse',\n",
       " 'feels hot/feverish',\n",
       " 'pericardial friction rub',\n",
       " 'cardiovascular finding',\n",
       " 'soft tissue swelling',\n",
       " 'rhd positive',\n",
       " 'para 1',\n",
       " 'nasal flaring',\n",
       " \"Murphy's sign\",\n",
       " 'gasping for breath',\n",
       " 'feces in rectum',\n",
       " 'alcohol binge episode',\n",
       " 'abdomen acute',\n",
       " 'air fluid level',\n",
       " 'catching breath',\n",
       " 'large-for-dates fetus',\n",
       " 'homicidal thoughts']"
      ]
     },
     "execution_count": 20,
     "metadata": {},
     "output_type": "execute_result"
    }
   ],
   "source": [
    "ohne_syns"
   ]
  },
  {
   "cell_type": "markdown",
   "metadata": {},
   "source": [
    "# II- Preprocess text"
   ]
  },
  {
   "cell_type": "code",
   "execution_count": 21,
   "metadata": {},
   "outputs": [],
   "source": [
    "from spacy.lang.en.stop_words import STOP_WORDS\n",
    "import spacy\n",
    "nlp = spacy.load('en_core_web_sm')"
   ]
  },
  {
   "cell_type": "code",
   "execution_count": 22,
   "metadata": {},
   "outputs": [],
   "source": [
    "def preprocess(doc):\n",
    "    nlp_doc=nlp(doc)\n",
    "    d=[]\n",
    "    for token in nlp_doc:\n",
    "        if(not token.text.lower()  in STOP_WORDS and  token.text.isalpha() and token.tag_ in (\"JJ\",\"NN\",\"VBG\",\"NNS\")):\n",
    "            d.append(token.lemma_.lower() )\n",
    "    return ' '.join(d)"
   ]
  },
  {
   "cell_type": "code",
   "execution_count": 23,
   "metadata": {},
   "outputs": [],
   "source": [
    "def preprocess_sym(doc):\n",
    "    nlp_doc=nlp(doc)\n",
    "    d=[]\n",
    "    for token in nlp_doc:\n",
    "        if(not token.text.lower()  in STOP_WORDS and  token.text.isalpha()):\n",
    "            d.append(token.lemma_.lower() )\n",
    "    return ' '.join(d)"
   ]
  },
  {
   "cell_type": "code",
   "execution_count": 24,
   "metadata": {},
   "outputs": [
    {
     "data": {
      "text/plain": [
       "'skin peel'"
      ]
     },
     "execution_count": 24,
     "metadata": {},
     "output_type": "execute_result"
    }
   ],
   "source": [
    "preprocess(\"skin peeling\")"
   ]
  },
  {
   "cell_type": "code",
   "execution_count": 25,
   "metadata": {},
   "outputs": [],
   "source": [
    "all_symp_pr=[preprocess_sym(sym) for sym in all_symp]"
   ]
  },
  {
   "cell_type": "code",
   "execution_count": 26,
   "metadata": {},
   "outputs": [],
   "source": [
    "#associe chaque symp pretraite au non de sa colonne originale\n",
    "col_dict = dict(zip(all_symp_pr, all_symp_col))"
   ]
  },
  {
   "cell_type": "markdown",
   "metadata": {},
   "source": [
    "# III- Syntactic Similarity"
   ]
  },
  {
   "cell_type": "code",
   "execution_count": 27,
   "metadata": {},
   "outputs": [],
   "source": [
    "def jaccard_set(str1, str2):\n",
    "    list1=str1.split(' ')\n",
    "    list2=str2.split(' ')\n",
    "    intersection = len(list(set(list1).intersection(list2)))\n",
    "    union = (len(list1) + len(list2)) - intersection\n",
    "    return float(intersection) / union"
   ]
  },
  {
   "cell_type": "code",
   "execution_count": 28,
   "metadata": {},
   "outputs": [],
   "source": [
    "#similarite syn avec ts le corpus\n",
    "def syntactic_similarity(symp_t,corpus):\n",
    "    max_sim=0\n",
    "    most_sim=None\n",
    "    for symp in corpus:\n",
    "        d=jaccard_set(symp_t,symp)\n",
    "        if d>max_sim:\n",
    "            most_sim=symp\n",
    "            max_sim=d\n",
    "    return max_sim,most_sim\n",
    "\n"
   ]
  },
  {
   "cell_type": "code",
   "execution_count": 29,
   "metadata": {},
   "outputs": [
    {
     "data": {
      "text/plain": [
       "(0.5, 'brittle nail')"
      ]
     },
     "execution_count": 29,
     "metadata": {},
     "output_type": "execute_result"
    }
   ],
   "source": [
    "syntactic_similarity('nail',all_symp_pr)"
   ]
  },
  {
   "cell_type": "code",
   "execution_count": 30,
   "metadata": {},
   "outputs": [],
   "source": [
    "def check_pattern(inp,dis_list):\n",
    "    import re\n",
    "    pred_list=[]\n",
    "    ptr=0\n",
    "    patt = \"^\" + inp + \"$\"\n",
    "    regexp = re.compile(inp)\n",
    "    for item in dis_list:\n",
    "        if regexp.search(item):\n",
    "            pred_list.append(item)\n",
    "    if(len(pred_list)>0):\n",
    "        return 1,pred_list\n",
    "    else:\n",
    "        return ptr,None"
   ]
  },
  {
   "cell_type": "code",
   "execution_count": 31,
   "metadata": {},
   "outputs": [
    {
     "data": {
      "text/plain": [
       "(1, ['brittle nail', 'small dent nail', 'inflammatory nail'])"
      ]
     },
     "execution_count": 31,
     "metadata": {},
     "output_type": "execute_result"
    }
   ],
   "source": [
    "check_pattern('nail',all_symp_pr)"
   ]
  },
  {
   "cell_type": "markdown",
   "metadata": {},
   "source": [
    "# IV- Semantic Similarity"
   ]
  },
  {
   "cell_type": "code",
   "execution_count": 32,
   "metadata": {},
   "outputs": [],
   "source": [
    "from nltk.wsd import lesk\n",
    "from nltk.tokenize import word_tokenize\n",
    "def WSD(word, context):\n",
    "    sens=lesk(context, word)\n",
    "    return sens"
   ]
  },
  {
   "cell_type": "code",
   "execution_count": 33,
   "metadata": {},
   "outputs": [],
   "source": [
    "def semanticD(doc1,doc2):\n",
    "    doc1_p=preprocess(doc1).split(' ')\n",
    "    doc2_p=preprocess_sym(doc2).split(' ')\n",
    "    score=0\n",
    "    for tock1 in doc1_p:\n",
    "        for tock2 in doc2_p:\n",
    "            syn1 = WSD(tock1,doc1)\n",
    "            syn2 = WSD(tock2,doc2)\n",
    "            if syn1 is not None and syn2 is not None :\n",
    "                x=syn1.path_similarity(syn2)\n",
    "                if x is not None and x>0.25:\n",
    "                    score+=x\n",
    "    return score/(len(doc1_p)*len(doc2_p))"
   ]
  },
  {
   "cell_type": "code",
   "execution_count": 34,
   "metadata": {},
   "outputs": [],
   "source": [
    "#similarite sem avec ts le corpus\n",
    "def semantic_similarity(symp_t,corpus):\n",
    "    max_sim=0\n",
    "    most_sim=None\n",
    "    for symp in corpus:\n",
    "        d=semanticD(symp_t,symp)\n",
    "        if d>max_sim:\n",
    "            most_sim=symp\n",
    "            max_sim=d\n",
    "    return max_sim,most_sim"
   ]
  },
  {
   "cell_type": "code",
   "execution_count": 35,
   "metadata": {},
   "outputs": [
    {
     "data": {
      "text/plain": [
       "(1.0, 'vomit')"
      ]
     },
     "execution_count": 35,
     "metadata": {},
     "output_type": "execute_result"
    }
   ],
   "source": [
    "semantic_similarity('puke',all_symp_pr)"
   ]
  },
  {
   "cell_type": "code",
   "execution_count": 36,
   "metadata": {},
   "outputs": [],
   "source": [
    "from itertools import chain\n",
    "from nltk.corpus import wordnet\n",
    "def suggest_syn(sym):\n",
    "    symp=[]\n",
    "    synonyms = wordnet.synsets(sym)\n",
    "    lemmas=[word.lemma_names() for word in synonyms]\n",
    "    lemmas = list(set(chain(*lemmas)))\n",
    "    for e in lemmas:\n",
    "        res,sym1=semantic_similarity(e,all_symp_pr)\n",
    "        if res!=0:\n",
    "            symp.append(sym1)\n",
    "    return list(set(symp))"
   ]
  },
  {
   "cell_type": "code",
   "execution_count": null,
   "metadata": {},
   "outputs": [],
   "source": [
    "suggest_syn('puke')"
   ]
  },
  {
   "cell_type": "code",
   "execution_count": null,
   "metadata": {},
   "outputs": [],
   "source": [
    "#recoit client_symptoms et renvoit un dataframe avec 1 pour les symptoms associees\n",
    "def OHV(cl_sym,all_sym):\n",
    "    l=np.zeros([1,len(all_sym)])\n",
    "    for sym in cl_sym:\n",
    "        l[0,all_sym.index(sym)]=1\n",
    "    return pd.DataFrame(l, columns =all_symp)\n",
    "    "
   ]
  },
  {
   "cell_type": "code",
   "execution_count": null,
   "metadata": {},
   "outputs": [],
   "source": [
    "def contains(small, big):\n",
    "    a=True\n",
    "    for i in small:\n",
    "        if i not in big:\n",
    "            a=False\n",
    "    return a"
   ]
  },
  {
   "cell_type": "code",
   "execution_count": null,
   "metadata": {},
   "outputs": [],
   "source": [
    "def possible_diseases(l):\n",
    "    poss_dis=[]\n",
    "    for dis in set(disease):\n",
    "        if contains(l,symVONdisease(df_tr,dis)):\n",
    "            poss_dis.append(dis)\n",
    "    return poss_dis"
   ]
  },
  {
   "cell_type": "code",
   "execution_count": null,
   "metadata": {},
   "outputs": [],
   "source": [
    "#recoit une maladie renvoit tous les sympts\n",
    "def symVONdisease(df,disease):\n",
    "    ddf=df[df.prognosis==disease]\n",
    "    m2 = (ddf == 1).any()\n",
    "    return m2.index[m2].tolist()\n",
    "    "
   ]
  },
  {
   "cell_type": "markdown",
   "metadata": {},
   "source": [
    "# V- Prediction Model (KNN & DT)"
   ]
  },
  {
   "cell_type": "code",
   "execution_count": null,
   "metadata": {},
   "outputs": [],
   "source": [
    "from sklearn.neighbors import KNeighborsClassifier\n",
    "from sklearn.tree import DecisionTreeClassifier\n",
    "from sklearn.metrics import classification_report"
   ]
  },
  {
   "cell_type": "code",
   "execution_count": null,
   "metadata": {},
   "outputs": [],
   "source": [
    "X_train=df_tr.iloc[:,:-1]\n",
    "X_test=df_tt.iloc[:,:-1]\n",
    "y_train = df_tr.iloc[:,-1]\n",
    "y_test = df_tt.iloc[:,-1]"
   ]
  },
  {
   "cell_type": "code",
   "execution_count": null,
   "metadata": {},
   "outputs": [],
   "source": [
    "knn_clf=KNeighborsClassifier()\n",
    "knn_clf.fit(X_train,y_train)"
   ]
  },
  {
   "cell_type": "code",
   "execution_count": null,
   "metadata": {},
   "outputs": [],
   "source": [
    "dt_clf = DecisionTreeClassifier()\n",
    "dt_clf.fit(X_train, y_train)"
   ]
  },
  {
   "cell_type": "code",
   "execution_count": null,
   "metadata": {},
   "outputs": [],
   "source": [
    "print(classification_report(y_test,knn_clf.predict(X_test)))"
   ]
  },
  {
   "cell_type": "code",
   "execution_count": null,
   "metadata": {},
   "outputs": [],
   "source": [
    "print(classification_report(y_test,dt_clf.predict(X_test)))"
   ]
  },
  {
   "cell_type": "markdown",
   "metadata": {},
   "source": [
    "##  VI- SEVERITY / DESCRIPTION / PRECAUTION"
   ]
  },
  {
   "cell_type": "code",
   "execution_count": null,
   "metadata": {},
   "outputs": [],
   "source": [
    "severityDictionary=dict()\n",
    "description_list = dict()\n",
    "precautionDictionary=dict()\n",
    "\n",
    "def getDescription():\n",
    "    global description_list\n",
    "    with open('symptom_Description.csv') as csv_file:\n",
    "        csv_reader = csv.reader(csv_file, delimiter=',')\n",
    "        line_count = 0\n",
    "        for row in csv_reader:\n",
    "            _description={row[0]:row[1]}\n",
    "            description_list.update(_description)\n",
    "\n",
    "\n",
    "\n",
    "\n",
    "def getSeverityDict():\n",
    "    global severityDictionary\n",
    "    with open('symptom_severity.csv') as csv_file:\n",
    "\n",
    "        csv_reader = csv.reader(csv_file, delimiter=',')\n",
    "        line_count = 0\n",
    "        try:\n",
    "            for row in csv_reader:\n",
    "                _diction={row[0]:int(row[1])}\n",
    "                severityDictionary.update(_diction)\n",
    "        except:\n",
    "            pass\n",
    "\n",
    "\n",
    "def getprecautionDict():\n",
    "    global precautionDictionary\n",
    "    with open('symptom_precaution.csv') as csv_file:\n",
    "\n",
    "        csv_reader = csv.reader(csv_file, delimiter=',')\n",
    "        line_count = 0\n",
    "        for row in csv_reader:\n",
    "            _prec={row[0]:[row[1],row[2],row[3],row[4]]}\n",
    "            precautionDictionary.update(_prec)\n"
   ]
  },
  {
   "cell_type": "code",
   "execution_count": null,
   "metadata": {},
   "outputs": [],
   "source": [
    "getSeverityDict()\n",
    "getprecautionDict()\n",
    "getDescription()"
   ]
  },
  {
   "cell_type": "code",
   "execution_count": null,
   "metadata": {},
   "outputs": [],
   "source": [
    "severityDictionary"
   ]
  },
  {
   "cell_type": "code",
   "execution_count": 44,
   "metadata": {},
   "outputs": [],
   "source": [
    "def calc_condition(exp,days):\n",
    "    sum=0\n",
    "    for item in exp:\n",
    "        if item in severityDictionary.keys():\n",
    "            sum=sum+severityDictionary[item]\n",
    "    if((sum*days)/(len(exp))>13):\n",
    "        return 1\n",
    "        print(\"You should take the consultation from doctor. \")\n",
    "    else:\n",
    "        return 0\n",
    "        print(\"It might not be that bad but you should take precautions.\")\n"
   ]
  },
  {
   "cell_type": "markdown",
   "metadata": {},
   "source": [
    "# Chat"
   ]
  },
  {
   "cell_type": "code",
   "execution_count": 45,
   "metadata": {},
   "outputs": [],
   "source": [
    "def getInfo():\n",
    "    # name=input(\"Name:\")\n",
    "    print(\"Your Name \\n\\t\\t\\t\\t\\t\\t\",end=\"=>\")\n",
    "    name=input(\"\")\n",
    "    print(\"hello \",name)\n",
    "    return str(name)"
   ]
  },
  {
   "cell_type": "code",
   "execution_count": 46,
   "metadata": {},
   "outputs": [],
   "source": [
    "def related_sym(psym1):\n",
    "    print(\"searches related to input: \")\n",
    "    for num,it in enumerate(psym1):\n",
    "        print(num,\")\",clean_symp(it))\n",
    "    if num!=0:\n",
    "        print(f\"Select the one you meant (0 - {num}):  \", end=\"\")\n",
    "        conf_inp = int(input(\"\"))\n",
    "    else:\n",
    "        conf_inp=0\n",
    "\n",
    "    disease_input=psym1[conf_inp]\n",
    "    return disease_input"
   ]
  },
  {
   "cell_type": "code",
   "execution_count": 47,
   "metadata": {},
   "outputs": [],
   "source": [
    "def main_sp(name,all_symp_col):\n",
    "    #main Idea: At least two initial sympts to start with\n",
    "    \n",
    "    #get the 1st syp ->> process it ->> check_pattern ->>> get the appropriate one (if check_pattern==1 == similar syntaxic symp found)\n",
    "    print(\"Enter the main symptom you are experiencing Mr/Ms \"+name+\"  \\n\\t\\t\\t\\t\\t\\t\",end=\"=>\")\n",
    "    sym1 = input(\"\")\n",
    "    sym1=preprocess_sym(sym1)\n",
    "    sim1,psym1=check_pattern(sym1,all_symp_pr)\n",
    "    if sim1==1 :\n",
    "        psym1=related_sym(psym1)\n",
    "    \n",
    "    #get the 2nd syp ->> process it ->> check_pattern ->>> get the appropriate one (if check_pattern==1 == similar syntaxic symp found)\n",
    "\n",
    "    print(\"Enter a second symptom you are experiencing Mr/Ms \"+name+\"  \\n\\t\\t\\t\\t\\t\\t\",end=\"=>\")\n",
    "    sym2=input(\"\")\n",
    "    sym2=preprocess_sym(sym2)\n",
    "    sim2,psym2=check_pattern(sym2,all_symp_pr)\n",
    "    if sim2==1 :\n",
    "        psym2=related_sym(psym2)\n",
    "        \n",
    "    #if check_pattern==0 no similar syntaxic symp1 or symp2 ->> try semantic similarity\n",
    "    \n",
    "    if sim1==0 or sim2==0:\n",
    "        sim1,psym1=semantic_similarity(sym1,all_symp_pr)\n",
    "        sim2,psym2=semantic_similarity(sym2,all_symp_pr)\n",
    "        \n",
    "        #if semantic sim syp1 ==0 (no symp found) ->> suggest possible data symptoms based on all data and input sym synonymes\n",
    "        if sim1==0:\n",
    "            sugg=suggest_syn(sym1)\n",
    "            print('Are you experiencing any ')\n",
    "            for res in sugg:\n",
    "                print(res)\n",
    "                inp=input('')\n",
    "                if inp==\"yes\":\n",
    "                    psym1=res\n",
    "                    sim1=1\n",
    "                    break\n",
    "                \n",
    "        #if semantic sim syp2 ==0 (no symp found) ->> suggest possible data symptoms based on all data and input sym synonymes\n",
    "        if sim2==0:\n",
    "            sugg=suggest_syn(sym2)\n",
    "            for res in sugg:\n",
    "                inp=input('Do you feel '+ res+\" ?(yes or no) \")\n",
    "                if inp==\"yes\":\n",
    "                    psym2=res\n",
    "                    sim2=1\n",
    "                    break\n",
    "        #if no syntaxic semantic and suggested sym found return None and ask for clarification\n",
    "\n",
    "        if sim1==0 and sim2==0:\n",
    "            return None,None\n",
    "        else:\n",
    "            # if at least one sym found ->> duplicate it and proceed\n",
    "            if sim1==0:\n",
    "                psym1=psym2\n",
    "            if sim2==0:\n",
    "                psym2=psym1\n",
    "    #create patient symp list\n",
    "    all_sym=[col_dict[psym1],col_dict[psym2]]\n",
    "    #predict possible diseases\n",
    "    diseases=possible_diseases(all_sym)\n",
    "    stop=False\n",
    "    print(\"Are you experiencing any \")\n",
    "    for dis in diseases:\n",
    "        if stop==False:\n",
    "            for sym in symVONdisease(df_tr,dis):\n",
    "                if sym not in all_sym:\n",
    "                    print(clean_symp(sym)+' ?')\n",
    "                    while True:\n",
    "                        inp=input(\"\")\n",
    "                        if(inp==\"yes\" or inp==\"no\"):\n",
    "                            break\n",
    "                        else:\n",
    "                            print(\"provide proper answers i.e. (yes/no) : \",end=\"\")\n",
    "                    if inp==\"yes\":\n",
    "                        all_sym.append(sym)\n",
    "                        dise=possible_diseases(all_sym)\n",
    "                        if len(dise)==1:\n",
    "                            stop=True \n",
    "                            break\n",
    "                    else:\n",
    "                        continue\n",
    "    return knn_clf.predict(OHV(all_sym,all_symp_col)),all_sym\n",
    "\n",
    "    \n",
    "    "
   ]
  },
  {
   "cell_type": "code",
   "execution_count": 48,
   "metadata": {},
   "outputs": [],
   "source": [
    "def chat_sp():\n",
    "    a=True\n",
    "    while a:\n",
    "        name=getInfo()\n",
    "        result,sym=main_sp(name,all_symp_col)\n",
    "        if result == None :\n",
    "            ans3=input(\"can you specify more what you feel or tap q to stop the conversation\")\n",
    "            if ans3==\"q\":\n",
    "                a=False\n",
    "            else:\n",
    "                continue\n",
    "\n",
    "        else:\n",
    "            print(\"you may have \"+result[0])\n",
    "            print(description_list[result[0]])\n",
    "            an=input(\"how many day do you feel those symptoms ?\")\n",
    "            if calc_condition(sym,int(an))==1:\n",
    "                print(\"you should take the consultation from doctor\")\n",
    "            else : \n",
    "                print('Take following precautions : ')\n",
    "                for e in precautionDictionary[result[0]]:\n",
    "                    print(e)\n",
    "            print(\"do you need another medical consultation (yes or no)? \")\n",
    "            ans=input()\n",
    "            if ans!=\"yes\":\n",
    "                a=False\n",
    "                print(\"!!!!! thanks for using ower application !!!!!! \")\n"
   ]
  },
  {
   "cell_type": "code",
   "execution_count": 51,
   "metadata": {},
   "outputs": [
    {
     "name": "stdout",
     "output_type": "stream",
     "text": [
      "Your Name \n",
      "\t\t\t\t\t\t=>lamiae\n",
      "hello  lamiae\n",
      "Enter the main symptom you are experiencing Mr/Ms lamiae  \n",
      "\t\t\t\t\t\t=>itch\n",
      "searches related to input: \n",
      "0 ) itch\n",
      "1 ) internal itching\n",
      "Select the one you meant (0 - 1):  0\n",
      "Enter a second symptom you are experiencing Mr/Ms lamiae  \n",
      "\t\t\t\t\t\t=>skin\n",
      "searches related to input: \n",
      "0 ) skin rash\n",
      "1 ) nodal skin eruption\n",
      "2 ) yellow skin\n",
      "3 ) skin peel\n",
      "Select the one you meant (0 - 3):  0\n",
      "Are you experiencing any \n",
      "nodal skin eruptions ?\n",
      "yes\n",
      "you may have Fungal infection\n",
      "In humans, fungal infections occur when an invading fungus takes over an area of the body and is too much for the immune system to handle. Fungi can live in the air, soil, water, and plants. There are also some fungi that live naturally in the human body. Like many microbes, there are helpful fungi and harmful fungi.\n",
      "how many day do you feel those symptoms ?4\n",
      "Take following precautions : \n",
      "bath twice\n",
      "use detol or neem in bathing water\n",
      "keep infected area dry\n",
      "use clean cloths\n",
      "do you need another medical consultation (yes or no)? \n",
      "no \n",
      "!!!!! thanks for using ower application !!!!!! \n"
     ]
    }
   ],
   "source": [
    "chat_sp()"
   ]
  }
 ],
 "metadata": {
  "kernelspec": {
   "display_name": "Python 3",
   "language": "python",
   "name": "python3"
  },
  "language_info": {
   "codemirror_mode": {
    "name": "ipython",
    "version": 3
   },
   "file_extension": ".py",
   "mimetype": "text/x-python",
   "name": "python",
   "nbconvert_exporter": "python",
   "pygments_lexer": "ipython3",
   "version": "3.7.6"
  }
 },
 "nbformat": 4,
 "nbformat_minor": 4
}
